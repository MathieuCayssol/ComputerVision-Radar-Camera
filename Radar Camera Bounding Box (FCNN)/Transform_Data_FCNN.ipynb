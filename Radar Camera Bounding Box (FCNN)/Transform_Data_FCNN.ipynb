{
 "cells": [
  {
   "cell_type": "code",
   "execution_count": 42,
   "id": "ae3f8f15",
   "metadata": {},
   "outputs": [],
   "source": [
    "import numpy as np\n",
    "import os\n",
    "import re\n",
    "import zipfile\n",
    "from PIL import Image\n",
    "import matplotlib.pyplot as plt\n",
    "import cv2\n",
    "import plotly.express as px"
   ]
  },
  {
   "cell_type": "code",
   "execution_count": 43,
   "id": "9b18a3d4",
   "metadata": {},
   "outputs": [],
   "source": [
    "PATH_ANNOTATED = 'radar_camera_annoted.txt'"
   ]
  },
  {
   "cell_type": "code",
   "execution_count": 44,
   "id": "d39f04f3",
   "metadata": {},
   "outputs": [],
   "source": [
    "with open(PATH_ANNOTATED, \"r\") as f:\n",
    "    lines = f.readlines()\n",
    "\n",
    "    # loading paths\n",
    "    path_annoted = [l.split()[0] for l in lines]"
   ]
  },
  {
   "cell_type": "code",
   "execution_count": 45,
   "id": "a576e963",
   "metadata": {},
   "outputs": [
    {
     "data": {
      "text/plain": [
       "1556"
      ]
     },
     "execution_count": 45,
     "metadata": {},
     "output_type": "execute_result"
    }
   ],
   "source": [
    "len(path_annoted)"
   ]
  },
  {
   "cell_type": "code",
   "execution_count": 46,
   "id": "8c22f5cb",
   "metadata": {},
   "outputs": [],
   "source": [
    "a = np.load('camera_annoted'+path_annoted[22], allow_pickle=True)[\"camera_annotation\"]\n",
    "b = np.load('radar_annoted'+path_annoted[22], allow_pickle=True)[\"annotation_matrix\"]\n",
    "c = np.load('radar_annoted'+path_annoted[22], allow_pickle=True)[\"labels\"]"
   ]
  },
  {
   "cell_type": "code",
   "execution_count": 47,
   "id": "3be44d71",
   "metadata": {},
   "outputs": [
    {
     "data": {
      "text/plain": [
       "(6, 1025, 1025)"
      ]
     },
     "execution_count": 47,
     "metadata": {},
     "output_type": "execute_result"
    }
   ],
   "source": [
    "b.shape"
   ]
  },
  {
   "cell_type": "code",
   "execution_count": 48,
   "id": "d483f90f",
   "metadata": {},
   "outputs": [
    {
     "name": "stdout",
     "output_type": "stream",
     "text": [
      "[13012 13011 13010 13009 13008 13007]\n"
     ]
    }
   ],
   "source": [
    "print(c)"
   ]
  },
  {
   "cell_type": "code",
   "execution_count": 49,
   "id": "b9161132",
   "metadata": {},
   "outputs": [
    {
     "data": {
      "text/plain": [
       "<Figure size 432x288 with 0 Axes>"
      ]
     },
     "metadata": {},
     "output_type": "display_data"
    },
    {
     "data": {
      "image/png": "[encoded data removed]",
      "text/plain": [
       "<Figure size 1080x1080 with 6 Axes>"
      ]
     },
     "metadata": {
      "needs_background": "light"
     },
     "output_type": "display_data"
    }
   ],
   "source": [
    "plt.figure()\n",
    "f, axarr = plt.subplots(1,6, figsize=(15, 15))\n",
    "\n",
    "for i in range(6):\n",
    "        axarr[i].imshow(b[i, 152:-505, 465:-480])"
   ]
  },
  {
   "cell_type": "code",
   "execution_count": 50,
   "id": "0dab09a1",
   "metadata": {},
   "outputs": [
    {
     "data": {
      "text/plain": [
       "(1024, 1280)"
      ]
     },
     "execution_count": 50,
     "metadata": {},
     "output_type": "execute_result"
    }
   ],
   "source": [
    "(a==c[0]).astype(int).shape"
   ]
  },
  {
   "cell_type": "code",
   "execution_count": 51,
   "id": "f7dd1e32",
   "metadata": {
    "scrolled": false
   },
   "outputs": [
    {
     "data": {
      "text/plain": [
       "<Figure size 432x288 with 0 Axes>"
      ]
     },
     "metadata": {},
     "output_type": "display_data"
    },
    {
     "data": {
      "image/png": "[encoded data removed]",
      "text/plain": [
       "<Figure size 1080x1080 with 6 Axes>"
      ]
     },
     "metadata": {
      "needs_background": "light"
     },
     "output_type": "display_data"
    }
   ],
   "source": [
    "plt.figure()\n",
    "f, axarr = plt.subplots(1,6, figsize=(15, 15))\n",
    "\n",
    "for i in range(6):\n",
    "        axarr[i].imshow((a==c[i]).astype(int))"
   ]
  },
  {
   "cell_type": "code",
   "execution_count": 52,
   "id": "fe180098",
   "metadata": {},
   "outputs": [],
   "source": [
    "def bbox2(img):\n",
    "    rows = np.any(img, axis=1)\n",
    "    cols = np.any(img, axis=0)\n",
    "    ymin, ymax = np.where(rows)[0][[0, -1]]\n",
    "    xmin, xmax = np.where(cols)[0][[0, -1]]\n",
    "    #img[ymin:ymax+1, xmin:xmax+1]\n",
    "    return img[ymin:ymax+1, xmin:xmax+1]"
   ]
  },
  {
   "cell_type": "code",
   "execution_count": 53,
   "id": "f6347d63",
   "metadata": {},
   "outputs": [],
   "source": [
    "test = bbox2(((a==13008)*255).astype(np.uint8))"
   ]
  },
  {
   "cell_type": "code",
   "execution_count": 54,
   "id": "e14ca5f5",
   "metadata": {},
   "outputs": [
    {
     "data": {
      "text/plain": [
       "3449"
      ]
     },
     "execution_count": 54,
     "metadata": {},
     "output_type": "execute_result"
    }
   ],
   "source": [
    "np.count_nonzero(test)"
   ]
  },
  {
   "cell_type": "code",
   "execution_count": 55,
   "id": "dc2d05e3",
   "metadata": {},
   "outputs": [
    {
     "data": {
      "text/plain": [
       "<matplotlib.image.AxesImage at 0x7fab0d755cd0>"
      ]
     },
     "execution_count": 55,
     "metadata": {},
     "output_type": "execute_result"
    },
    {
     "data": {
      "image/png": "[encoded data removed]",
      "text/plain": [
       "<Figure size 432x288 with 1 Axes>"
      ]
     },
     "metadata": {
      "needs_background": "light"
     },
     "output_type": "display_data"
    }
   ],
   "source": [
    "plt.figure()\n",
    "plt.imshow(test)"
   ]
  },
  {
   "cell_type": "code",
   "execution_count": 56,
   "id": "2655f5a3",
   "metadata": {},
   "outputs": [
    {
     "data": {
      "text/plain": [
       "5175"
      ]
     },
     "execution_count": 56,
     "metadata": {},
     "output_type": "execute_result"
    }
   ],
   "source": [
    "test.shape[0]*test.shape[1]"
   ]
  },
  {
   "cell_type": "code",
   "execution_count": 57,
   "id": "807ce862",
   "metadata": {},
   "outputs": [],
   "source": [
    "def bounding_box(img):\n",
    "    rows = np.any(img, axis=1)\n",
    "    cols = np.any(img, axis=0)\n",
    "    ymin, ymax = np.where(rows)[0][[0, -1]]\n",
    "    xmin, xmax = np.where(cols)[0][[0, -1]]\n",
    "    #img[ymin:ymax+1, xmin:xmax+1]\n",
    "    return ymax, ymin, xmax, xmin"
   ]
  },
  {
   "cell_type": "code",
   "execution_count": 58,
   "id": "60cadd45",
   "metadata": {},
   "outputs": [],
   "source": [
    "array_camera_annoted = []\n",
    "array_radar_annoted = []\n",
    "count_bug_seg = 0\n",
    "count_crop = 0\n",
    "for i in range(0, len(path_annoted)):\n",
    "    #annoted\n",
    "    camera = np.load('camera_annoted'+path_annoted[i], allow_pickle=True)[\"camera_annotation\"]\n",
    "    radar = np.load('radar_annoted'+path_annoted[i], allow_pickle=True)[\"annotation_matrix\"]\n",
    "    annotation = np.load('radar_annoted'+path_annoted[i], allow_pickle=True)[\"labels\"]\n",
    "    for j in range(annotation.shape[0]):\n",
    "        # 4 points\n",
    "        image_camera = ((camera==annotation[j])*255).astype(np.uint8)\n",
    "        if(np.count_nonzero(radar[j, 152:-505, 465:-480]!=0)>0):\n",
    "            image_radar = radar[j, 152:-505, 465:-480]\n",
    "            ymax_rad, ymin_rad, xmax_rad, xmin_rad = bounding_box(image_radar)\n",
    "            ymax_cam, ymin_cam, xmax_cam, xmin_cam = bounding_box(image_camera)\n",
    "            \n",
    "            crop_camera = image_camera[ymin_cam:ymax_cam+1, xmin_cam:xmax_cam+1]\n",
    "            # check legitimate bounding box\n",
    "            if(np.count_nonzero(crop_camera) > 0.5*crop_camera.shape[0]*crop_camera.shape[1]):\n",
    "                array_radar_annoted.append([ymax_rad, ymin_rad, xmax_rad, xmin_rad])\n",
    "                array_camera_annoted.append([ymax_cam, ymin_cam, xmax_cam, xmin_cam])\n",
    "                im = Image.fromarray(image_radar[ymin_rad:ymax_rad+1, xmin_rad:xmax_rad+1].astype(np.uint8))\n",
    "                im.save(\"radar_crop/\"+str(i)+str(ymin_rad)+\".jpeg\")\n",
    "                im = Image.fromarray(crop_camera)\n",
    "                #[ymin_cam:ymax_cam+1, xmin_cam:xmax_cam+1].astype(np.uint64)\n",
    "                im.save(\"camera_crop/\"+str(i)+str(ymax_cam)+\".jpeg\")\n",
    "            else:\n",
    "                count_bug_seg+=1\n",
    "        else:\n",
    "            count_crop+=1\n",
    "\n",
    "array_camera_annoted = np.array(array_camera_annoted)\n",
    "array_radar_annoted = np.array(array_radar_annoted)"
   ]
  },
  {
   "cell_type": "code",
   "execution_count": null,
   "id": "a8e3789d",
   "metadata": {},
   "outputs": [],
   "source": [
    "'''im = Image.fromarray(radar[j, ymin_rad+152:ymax_rad+1-505, xmin_rad+465:xmax_rad-480+1].astype(np.uint8))\n",
    "                im.save(\"radar_crop/\"+str(i)+\".jpeg\")\n",
    "                im = Image.fromarray(image_camera[ymin_cam:ymax_cam+1, xmin_cam:xmax_cam+1])\n",
    "                [ymin_cam:ymax_cam+1, xmin_cam:xmax_cam+1].astype(np.uint64)\n",
    "                im.save(\"camera_crop/\"+str(i)+\".jpeg\")'''"
   ]
  },
  {
   "cell_type": "code",
   "execution_count": 59,
   "id": "6cb82803",
   "metadata": {},
   "outputs": [
    {
     "data": {
      "text/plain": [
       "(4,)"
      ]
     },
     "execution_count": 59,
     "metadata": {},
     "output_type": "execute_result"
    }
   ],
   "source": [
    "array_camera_annoted[0].shape"
   ]
  },
  {
   "cell_type": "code",
   "execution_count": 60,
   "id": "5a92a458",
   "metadata": {},
   "outputs": [
    {
     "data": {
      "text/plain": [
       "(2065, 4)"
      ]
     },
     "execution_count": 60,
     "metadata": {},
     "output_type": "execute_result"
    }
   ],
   "source": [
    "array_radar_annoted.shape"
   ]
  },
  {
   "cell_type": "code",
   "execution_count": 61,
   "id": "6afff137",
   "metadata": {},
   "outputs": [
    {
     "name": "stdout",
     "output_type": "stream",
     "text": [
      "1975\n",
      "614\n"
     ]
    }
   ],
   "source": [
    "print(count_bug_seg)\n",
    "print(count_crop)"
   ]
  },
  {
   "cell_type": "code",
   "execution_count": 62,
   "id": "8e949562",
   "metadata": {},
   "outputs": [],
   "source": [
    "np.save(\"bbox_camera_04.npy\", array_camera_annoted)\n",
    "np.save(\"bbox_radar_04.npy\", array_radar_annoted)"
   ]
  },
  {
   "cell_type": "code",
   "execution_count": null,
   "id": "d84f52ab",
   "metadata": {},
   "outputs": [],
   "source": []
  }
 ],
 "metadata": {
  "kernelspec": {
   "display_name": "Python 3 (ipykernel)",
   "language": "python",
   "name": "python3"
  },
  "language_info": {
   "codemirror_mode": {
    "name": "ipython",
    "version": 3
   },
   "file_extension": ".py",
   "mimetype": "text/x-python",
   "name": "python",
   "nbconvert_exporter": "python",
   "pygments_lexer": "ipython3",
   "version": "3.7.11"
  }
 },
 "nbformat": 4,
 "nbformat_minor": 5
}

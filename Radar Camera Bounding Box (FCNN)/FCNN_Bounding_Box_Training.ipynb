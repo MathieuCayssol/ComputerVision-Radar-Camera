{
  "nbformat": 4,
  "nbformat_minor": 0,
  "metadata": {
    "colab": {
      "name": "FCNN-Bounding-Box-Prediction.ipynb",
      "provenance": [],
      "collapsed_sections": []
    },
    "kernelspec": {
      "name": "python3",
      "display_name": "Python 3"
    },
    "language_info": {
      "name": "python"
    }
  },
  "cells": [
    {
      "cell_type": "code",
      "execution_count": 2,
      "metadata": {
        "id": "lgqxdxIRESh0",
        "colab": {
          "base_uri": "https://localhost:8080/"
        },
        "outputId": "1066c215-52e6-4a57-a08f-4d1fecee9b01"
      },
      "outputs": [
        {
          "output_type": "stream",
          "name": "stdout",
          "text": [
            "Mounted at /content/drive\n"
          ]
        }
      ],
      "source": [
        "import numpy as np\n",
        "import matplotlib.pyplot as plt\n",
        "from keras import backend as K\n",
        "\n",
        "import tensorflow as tf\n",
        "from sklearn.preprocessing import normalize\n",
        "from tensorflow.keras.layers import Input, Dense, Activation,Lambda,Flatten,Dropout, Concatenate\n",
        "from tensorflow.keras import Model\n",
        "from keras.layers.merge import concatenate\n",
        "from sklearn.model_selection import train_test_split\n",
        "from tensorflow.keras.callbacks import ReduceLROnPlateau\n",
        "from tensorflow.keras.optimizers import Adam\n",
        "from keras.models import load_model\n",
        "from tensorflow.keras import Sequential\n",
        "from sklearn.preprocessing import MinMaxScaler\n",
        "from sklearn.metrics import mean_squared_error\n",
        "\n",
        "from google.colab import drive\n",
        "drive.mount('/content/drive')"
      ]
    },
    {
      "cell_type": "code",
      "source": [
        "PATH = \"/content/drive/My Drive/PROJET F4 ZZ3 HAMZA/bounding box prediction/\""
      ],
      "metadata": {
        "id": "Ctv9z7PXYLtJ"
      },
      "execution_count": 3,
      "outputs": []
    },
    {
      "cell_type": "code",
      "source": [
        "X = np.float64(np.load(PATH+\"bbox_camera.npy\"))\n",
        "Y = np.float64(np.load(PATH+\"bbox_radar.npy\"))"
      ],
      "metadata": {
        "id": "HXE93qsSYj7l"
      },
      "execution_count": 4,
      "outputs": []
    },
    {
      "cell_type": "code",
      "source": [
        "X.shape"
      ],
      "metadata": {
        "colab": {
          "base_uri": "https://localhost:8080/"
        },
        "id": "rm-d7xWKv91U",
        "outputId": "9253f80f-a3ac-4f28-8dfd-763518c7a536"
      },
      "execution_count": 5,
      "outputs": [
        {
          "output_type": "execute_result",
          "data": {
            "text/plain": [
              "(2065, 4)"
            ]
          },
          "metadata": {},
          "execution_count": 5
        }
      ]
    },
    {
      "cell_type": "code",
      "source": [
        "X[len(X)-1]"
      ],
      "metadata": {
        "colab": {
          "base_uri": "https://localhost:8080/"
        },
        "id": "BQnbH-tqdy9i",
        "outputId": "d88f403b-91a7-41f3-e496-7c350c37247b"
      },
      "execution_count": 6,
      "outputs": [
        {
          "output_type": "execute_result",
          "data": {
            "text/plain": [
              "array([1017.,  576., 1279., 1059.])"
            ]
          },
          "metadata": {},
          "execution_count": 6
        }
      ]
    },
    {
      "cell_type": "code",
      "source": [
        "X[0]"
      ],
      "metadata": {
        "colab": {
          "base_uri": "https://localhost:8080/"
        },
        "id": "Y_mP2dqOiyq8",
        "outputId": "2010701b-bc78-4ac3-f7f8-7091a3b4aa39"
      },
      "execution_count": 7,
      "outputs": [
        {
          "output_type": "execute_result",
          "data": {
            "text/plain": [
              "array([579., 503., 531., 410.])"
            ]
          },
          "metadata": {},
          "execution_count": 7
        }
      ]
    },
    {
      "cell_type": "code",
      "source": [
        "X_fit_scaler = MinMaxScaler().fit(X)\n",
        "X_scaler = X_fit_scaler.transform(X)\n",
        "\n",
        "Y_fit_scaler = MinMaxScaler().fit(Y)\n",
        "Y_scaler = Y_fit_scaler.transform(Y)"
      ],
      "metadata": {
        "id": "DLW-AyNAdHAR"
      },
      "execution_count": 8,
      "outputs": []
    },
    {
      "cell_type": "code",
      "source": [
        "X_scaler[0]"
      ],
      "metadata": {
        "colab": {
          "base_uri": "https://localhost:8080/"
        },
        "id": "QuHJx1buhEwi",
        "outputId": "fdf7bf80-3dde-4c80-8056-1fbff7c1b64e"
      },
      "execution_count": 9,
      "outputs": [
        {
          "output_type": "execute_result",
          "data": {
            "text/plain": [
              "array([0.22513089, 0.34671533, 0.39334955, 0.33064516])"
            ]
          },
          "metadata": {},
          "execution_count": 9
        }
      ]
    },
    {
      "cell_type": "code",
      "source": [
        "X_train, X_test, y_train, y_test = train_test_split(X_scaler, Y_scaler, test_size=0.2, random_state=42)"
      ],
      "metadata": {
        "id": "mZDCmZ4yYZur"
      },
      "execution_count": 10,
      "outputs": []
    },
    {
      "cell_type": "code",
      "source": [
        "model = Sequential()\n",
        "model.add(Input(shape=(4,)))\n",
        "model.add(Dense(32, activation=\"relu\"))\n",
        "model.add(Dense(64, activation=\"relu\"))\n",
        "model.add(Dense(128, activation=\"relu\"))\n",
        "model.add(Dense(256, activation=\"relu\"))\n",
        "model.add(Dense(512, activation=\"relu\"))\n",
        "model.add(Dense(1024, activation=\"relu\"))\n",
        "model.add(Dense(4))\n",
        "\n",
        "lr_reduction = ReduceLROnPlateau(monitor='val_loss', patience=3, verbose=1, factor=0.5, min_lr=0.000001)\n",
        "model.compile(optimizer='adam', loss='mean_squared_error', metrics=[\"mean_squared_error\"])\n",
        "history = model.fit(X_train, y_train, epochs=60, batch_size=10, validation_data=(X_test,y_test), callbacks=[lr_reduction])"
      ],
      "metadata": {
        "colab": {
          "base_uri": "https://localhost:8080/"
        },
        "id": "pQ8OGNx4red1",
        "outputId": "ed35c323-e541-4550-891b-9ec8141c55af"
      },
      "execution_count": 11,
      "outputs": [
        {
          "output_type": "stream",
          "name": "stdout",
          "text": [
            "Epoch 1/60\n",
            "166/166 [==============================] - 3s 12ms/step - loss: 0.0287 - mean_squared_error: 0.0287 - val_loss: 0.0077 - val_mean_squared_error: 0.0077 - lr: 0.0010\n",
            "Epoch 2/60\n",
            "166/166 [==============================] - 2s 10ms/step - loss: 0.0079 - mean_squared_error: 0.0079 - val_loss: 0.0065 - val_mean_squared_error: 0.0065 - lr: 0.0010\n",
            "Epoch 3/60\n",
            "166/166 [==============================] - 2s 10ms/step - loss: 0.0063 - mean_squared_error: 0.0063 - val_loss: 0.0061 - val_mean_squared_error: 0.0061 - lr: 0.0010\n",
            "Epoch 4/60\n",
            "166/166 [==============================] - 2s 11ms/step - loss: 0.0062 - mean_squared_error: 0.0062 - val_loss: 0.0080 - val_mean_squared_error: 0.0080 - lr: 0.0010\n",
            "Epoch 5/60\n",
            "166/166 [==============================] - 2s 10ms/step - loss: 0.0057 - mean_squared_error: 0.0057 - val_loss: 0.0047 - val_mean_squared_error: 0.0047 - lr: 0.0010\n",
            "Epoch 6/60\n",
            "166/166 [==============================] - 2s 11ms/step - loss: 0.0061 - mean_squared_error: 0.0061 - val_loss: 0.0049 - val_mean_squared_error: 0.0049 - lr: 0.0010\n",
            "Epoch 7/60\n",
            "166/166 [==============================] - 2s 9ms/step - loss: 0.0056 - mean_squared_error: 0.0056 - val_loss: 0.0060 - val_mean_squared_error: 0.0060 - lr: 0.0010\n",
            "Epoch 8/60\n",
            "162/166 [============================>.] - ETA: 0s - loss: 0.0055 - mean_squared_error: 0.0055\n",
            "Epoch 8: ReduceLROnPlateau reducing learning rate to 0.0005000000237487257.\n",
            "166/166 [==============================] - 2s 10ms/step - loss: 0.0055 - mean_squared_error: 0.0055 - val_loss: 0.0057 - val_mean_squared_error: 0.0057 - lr: 0.0010\n",
            "Epoch 9/60\n",
            "166/166 [==============================] - 2s 12ms/step - loss: 0.0046 - mean_squared_error: 0.0046 - val_loss: 0.0051 - val_mean_squared_error: 0.0051 - lr: 5.0000e-04\n",
            "Epoch 10/60\n",
            "166/166 [==============================] - 2s 10ms/step - loss: 0.0043 - mean_squared_error: 0.0043 - val_loss: 0.0045 - val_mean_squared_error: 0.0045 - lr: 5.0000e-04\n",
            "Epoch 11/60\n",
            "166/166 [==============================] - 2s 11ms/step - loss: 0.0045 - mean_squared_error: 0.0045 - val_loss: 0.0044 - val_mean_squared_error: 0.0044 - lr: 5.0000e-04\n",
            "Epoch 12/60\n",
            "166/166 [==============================] - 2s 10ms/step - loss: 0.0044 - mean_squared_error: 0.0044 - val_loss: 0.0046 - val_mean_squared_error: 0.0046 - lr: 5.0000e-04\n",
            "Epoch 13/60\n",
            "166/166 [==============================] - 2s 10ms/step - loss: 0.0044 - mean_squared_error: 0.0044 - val_loss: 0.0062 - val_mean_squared_error: 0.0062 - lr: 5.0000e-04\n",
            "Epoch 14/60\n",
            "166/166 [==============================] - ETA: 0s - loss: 0.0045 - mean_squared_error: 0.0045\n",
            "Epoch 14: ReduceLROnPlateau reducing learning rate to 0.0002500000118743628.\n",
            "166/166 [==============================] - 2s 10ms/step - loss: 0.0045 - mean_squared_error: 0.0045 - val_loss: 0.0046 - val_mean_squared_error: 0.0046 - lr: 5.0000e-04\n",
            "Epoch 15/60\n",
            "166/166 [==============================] - 2s 12ms/step - loss: 0.0040 - mean_squared_error: 0.0040 - val_loss: 0.0042 - val_mean_squared_error: 0.0042 - lr: 2.5000e-04\n",
            "Epoch 16/60\n",
            "166/166 [==============================] - 2s 10ms/step - loss: 0.0040 - mean_squared_error: 0.0040 - val_loss: 0.0042 - val_mean_squared_error: 0.0042 - lr: 2.5000e-04\n",
            "Epoch 17/60\n",
            "166/166 [==============================] - 2s 10ms/step - loss: 0.0040 - mean_squared_error: 0.0040 - val_loss: 0.0040 - val_mean_squared_error: 0.0040 - lr: 2.5000e-04\n",
            "Epoch 18/60\n",
            "166/166 [==============================] - 2s 11ms/step - loss: 0.0039 - mean_squared_error: 0.0039 - val_loss: 0.0042 - val_mean_squared_error: 0.0042 - lr: 2.5000e-04\n",
            "Epoch 19/60\n",
            "166/166 [==============================] - 2s 10ms/step - loss: 0.0040 - mean_squared_error: 0.0040 - val_loss: 0.0042 - val_mean_squared_error: 0.0042 - lr: 2.5000e-04\n",
            "Epoch 20/60\n",
            "161/166 [============================>.] - ETA: 0s - loss: 0.0039 - mean_squared_error: 0.0039\n",
            "Epoch 20: ReduceLROnPlateau reducing learning rate to 0.0001250000059371814.\n",
            "166/166 [==============================] - 2s 9ms/step - loss: 0.0039 - mean_squared_error: 0.0039 - val_loss: 0.0042 - val_mean_squared_error: 0.0042 - lr: 2.5000e-04\n",
            "Epoch 21/60\n",
            "166/166 [==============================] - 2s 11ms/step - loss: 0.0037 - mean_squared_error: 0.0037 - val_loss: 0.0044 - val_mean_squared_error: 0.0044 - lr: 1.2500e-04\n",
            "Epoch 22/60\n",
            "166/166 [==============================] - 2s 10ms/step - loss: 0.0037 - mean_squared_error: 0.0037 - val_loss: 0.0040 - val_mean_squared_error: 0.0040 - lr: 1.2500e-04\n",
            "Epoch 23/60\n",
            "164/166 [============================>.] - ETA: 0s - loss: 0.0038 - mean_squared_error: 0.0038\n",
            "Epoch 23: ReduceLROnPlateau reducing learning rate to 6.25000029685907e-05.\n",
            "166/166 [==============================] - 2s 12ms/step - loss: 0.0037 - mean_squared_error: 0.0037 - val_loss: 0.0041 - val_mean_squared_error: 0.0041 - lr: 1.2500e-04\n",
            "Epoch 24/60\n",
            "166/166 [==============================] - 2s 12ms/step - loss: 0.0036 - mean_squared_error: 0.0036 - val_loss: 0.0040 - val_mean_squared_error: 0.0040 - lr: 6.2500e-05\n",
            "Epoch 25/60\n",
            "166/166 [==============================] - 2s 10ms/step - loss: 0.0036 - mean_squared_error: 0.0036 - val_loss: 0.0039 - val_mean_squared_error: 0.0039 - lr: 6.2500e-05\n",
            "Epoch 26/60\n",
            "166/166 [==============================] - 2s 9ms/step - loss: 0.0036 - mean_squared_error: 0.0036 - val_loss: 0.0040 - val_mean_squared_error: 0.0040 - lr: 6.2500e-05\n",
            "Epoch 27/60\n",
            "166/166 [==============================] - 2s 13ms/step - loss: 0.0035 - mean_squared_error: 0.0035 - val_loss: 0.0040 - val_mean_squared_error: 0.0040 - lr: 6.2500e-05\n",
            "Epoch 28/60\n",
            "166/166 [==============================] - ETA: 0s - loss: 0.0036 - mean_squared_error: 0.0036\n",
            "Epoch 28: ReduceLROnPlateau reducing learning rate to 3.125000148429535e-05.\n",
            "166/166 [==============================] - 2s 14ms/step - loss: 0.0036 - mean_squared_error: 0.0036 - val_loss: 0.0040 - val_mean_squared_error: 0.0040 - lr: 6.2500e-05\n",
            "Epoch 29/60\n",
            "166/166 [==============================] - 3s 17ms/step - loss: 0.0035 - mean_squared_error: 0.0035 - val_loss: 0.0039 - val_mean_squared_error: 0.0039 - lr: 3.1250e-05\n",
            "Epoch 30/60\n",
            "166/166 [==============================] - 2s 14ms/step - loss: 0.0035 - mean_squared_error: 0.0035 - val_loss: 0.0039 - val_mean_squared_error: 0.0039 - lr: 3.1250e-05\n",
            "Epoch 31/60\n",
            "165/166 [============================>.] - ETA: 0s - loss: 0.0035 - mean_squared_error: 0.0035\n",
            "Epoch 31: ReduceLROnPlateau reducing learning rate to 1.5625000742147677e-05.\n",
            "166/166 [==============================] - 2s 11ms/step - loss: 0.0035 - mean_squared_error: 0.0035 - val_loss: 0.0039 - val_mean_squared_error: 0.0039 - lr: 3.1250e-05\n",
            "Epoch 32/60\n",
            "166/166 [==============================] - 2s 12ms/step - loss: 0.0034 - mean_squared_error: 0.0034 - val_loss: 0.0039 - val_mean_squared_error: 0.0039 - lr: 1.5625e-05\n",
            "Epoch 33/60\n",
            "166/166 [==============================] - 2s 11ms/step - loss: 0.0034 - mean_squared_error: 0.0034 - val_loss: 0.0039 - val_mean_squared_error: 0.0039 - lr: 1.5625e-05\n",
            "Epoch 34/60\n",
            "162/166 [============================>.] - ETA: 0s - loss: 0.0035 - mean_squared_error: 0.0035\n",
            "Epoch 34: ReduceLROnPlateau reducing learning rate to 7.812500371073838e-06.\n",
            "166/166 [==============================] - 2s 12ms/step - loss: 0.0034 - mean_squared_error: 0.0034 - val_loss: 0.0039 - val_mean_squared_error: 0.0039 - lr: 1.5625e-05\n",
            "Epoch 35/60\n",
            "166/166 [==============================] - 2s 11ms/step - loss: 0.0034 - mean_squared_error: 0.0034 - val_loss: 0.0039 - val_mean_squared_error: 0.0039 - lr: 7.8125e-06\n",
            "Epoch 36/60\n",
            "166/166 [==============================] - 2s 11ms/step - loss: 0.0034 - mean_squared_error: 0.0034 - val_loss: 0.0038 - val_mean_squared_error: 0.0038 - lr: 7.8125e-06\n",
            "Epoch 37/60\n",
            "163/166 [============================>.] - ETA: 0s - loss: 0.0034 - mean_squared_error: 0.0034\n",
            "Epoch 37: ReduceLROnPlateau reducing learning rate to 3.906250185536919e-06.\n",
            "166/166 [==============================] - 2s 12ms/step - loss: 0.0034 - mean_squared_error: 0.0034 - val_loss: 0.0038 - val_mean_squared_error: 0.0038 - lr: 7.8125e-06\n",
            "Epoch 38/60\n",
            "166/166 [==============================] - 2s 11ms/step - loss: 0.0034 - mean_squared_error: 0.0034 - val_loss: 0.0038 - val_mean_squared_error: 0.0038 - lr: 3.9063e-06\n",
            "Epoch 39/60\n",
            "166/166 [==============================] - 2s 12ms/step - loss: 0.0034 - mean_squared_error: 0.0034 - val_loss: 0.0038 - val_mean_squared_error: 0.0038 - lr: 3.9063e-06\n",
            "Epoch 40/60\n",
            "166/166 [==============================] - ETA: 0s - loss: 0.0034 - mean_squared_error: 0.0034\n",
            "Epoch 40: ReduceLROnPlateau reducing learning rate to 1.9531250927684596e-06.\n",
            "166/166 [==============================] - 2s 10ms/step - loss: 0.0034 - mean_squared_error: 0.0034 - val_loss: 0.0038 - val_mean_squared_error: 0.0038 - lr: 3.9063e-06\n",
            "Epoch 41/60\n",
            "166/166 [==============================] - 2s 12ms/step - loss: 0.0034 - mean_squared_error: 0.0034 - val_loss: 0.0038 - val_mean_squared_error: 0.0038 - lr: 1.9531e-06\n",
            "Epoch 42/60\n",
            "166/166 [==============================] - 2s 12ms/step - loss: 0.0034 - mean_squared_error: 0.0034 - val_loss: 0.0038 - val_mean_squared_error: 0.0038 - lr: 1.9531e-06\n",
            "Epoch 43/60\n",
            "164/166 [============================>.] - ETA: 0s - loss: 0.0034 - mean_squared_error: 0.0034\n",
            "Epoch 43: ReduceLROnPlateau reducing learning rate to 1e-06.\n",
            "166/166 [==============================] - 3s 16ms/step - loss: 0.0034 - mean_squared_error: 0.0034 - val_loss: 0.0038 - val_mean_squared_error: 0.0038 - lr: 1.9531e-06\n",
            "Epoch 44/60\n",
            "166/166 [==============================] - 3s 19ms/step - loss: 0.0034 - mean_squared_error: 0.0034 - val_loss: 0.0038 - val_mean_squared_error: 0.0038 - lr: 1.0000e-06\n",
            "Epoch 45/60\n",
            "166/166 [==============================] - 3s 18ms/step - loss: 0.0034 - mean_squared_error: 0.0034 - val_loss: 0.0038 - val_mean_squared_error: 0.0038 - lr: 1.0000e-06\n",
            "Epoch 46/60\n",
            "166/166 [==============================] - 2s 14ms/step - loss: 0.0034 - mean_squared_error: 0.0034 - val_loss: 0.0038 - val_mean_squared_error: 0.0038 - lr: 1.0000e-06\n",
            "Epoch 47/60\n",
            "166/166 [==============================] - 2s 13ms/step - loss: 0.0034 - mean_squared_error: 0.0034 - val_loss: 0.0038 - val_mean_squared_error: 0.0038 - lr: 1.0000e-06\n",
            "Epoch 48/60\n",
            "166/166 [==============================] - 2s 14ms/step - loss: 0.0034 - mean_squared_error: 0.0034 - val_loss: 0.0038 - val_mean_squared_error: 0.0038 - lr: 1.0000e-06\n",
            "Epoch 49/60\n",
            "166/166 [==============================] - 2s 13ms/step - loss: 0.0034 - mean_squared_error: 0.0034 - val_loss: 0.0038 - val_mean_squared_error: 0.0038 - lr: 1.0000e-06\n",
            "Epoch 50/60\n",
            "166/166 [==============================] - 2s 13ms/step - loss: 0.0034 - mean_squared_error: 0.0034 - val_loss: 0.0038 - val_mean_squared_error: 0.0038 - lr: 1.0000e-06\n",
            "Epoch 51/60\n",
            "166/166 [==============================] - 2s 14ms/step - loss: 0.0034 - mean_squared_error: 0.0034 - val_loss: 0.0038 - val_mean_squared_error: 0.0038 - lr: 1.0000e-06\n",
            "Epoch 52/60\n",
            "166/166 [==============================] - 3s 18ms/step - loss: 0.0034 - mean_squared_error: 0.0034 - val_loss: 0.0038 - val_mean_squared_error: 0.0038 - lr: 1.0000e-06\n",
            "Epoch 53/60\n",
            "166/166 [==============================] - 2s 13ms/step - loss: 0.0034 - mean_squared_error: 0.0034 - val_loss: 0.0038 - val_mean_squared_error: 0.0038 - lr: 1.0000e-06\n",
            "Epoch 54/60\n",
            "166/166 [==============================] - 2s 11ms/step - loss: 0.0034 - mean_squared_error: 0.0034 - val_loss: 0.0038 - val_mean_squared_error: 0.0038 - lr: 1.0000e-06\n",
            "Epoch 55/60\n",
            "166/166 [==============================] - 2s 10ms/step - loss: 0.0034 - mean_squared_error: 0.0034 - val_loss: 0.0038 - val_mean_squared_error: 0.0038 - lr: 1.0000e-06\n",
            "Epoch 56/60\n",
            "166/166 [==============================] - 2s 11ms/step - loss: 0.0034 - mean_squared_error: 0.0034 - val_loss: 0.0038 - val_mean_squared_error: 0.0038 - lr: 1.0000e-06\n",
            "Epoch 57/60\n",
            "166/166 [==============================] - 2s 14ms/step - loss: 0.0034 - mean_squared_error: 0.0034 - val_loss: 0.0038 - val_mean_squared_error: 0.0038 - lr: 1.0000e-06\n",
            "Epoch 58/60\n",
            "166/166 [==============================] - 4s 22ms/step - loss: 0.0034 - mean_squared_error: 0.0034 - val_loss: 0.0038 - val_mean_squared_error: 0.0038 - lr: 1.0000e-06\n",
            "Epoch 59/60\n",
            "166/166 [==============================] - 3s 16ms/step - loss: 0.0034 - mean_squared_error: 0.0034 - val_loss: 0.0038 - val_mean_squared_error: 0.0038 - lr: 1.0000e-06\n",
            "Epoch 60/60\n",
            "166/166 [==============================] - 2s 11ms/step - loss: 0.0034 - mean_squared_error: 0.0034 - val_loss: 0.0038 - val_mean_squared_error: 0.0038 - lr: 1.0000e-06\n"
          ]
        }
      ]
    },
    {
      "cell_type": "code",
      "source": [
        "model.save('/content/drive/My Drive/PROJET F4 ZZ3 HAMZA/FCNN_Bounding_box.h5')"
      ],
      "metadata": {
        "id": "S2_TX_FS1GuH"
      },
      "execution_count": 13,
      "outputs": []
    },
    {
      "cell_type": "code",
      "source": [
        "Y_pred = model.predict(X_test)"
      ],
      "metadata": {
        "id": "3tx8rpMJfit2"
      },
      "execution_count": 12,
      "outputs": []
    },
    {
      "cell_type": "code",
      "source": [
        "Y_pred_original = Y_fit_scaler.inverse_transform(Y_pred)\n",
        "Y_test_original = Y_fit_scaler.inverse_transform(y_test)"
      ],
      "metadata": {
        "id": "cMEiOs_Lj8Ci"
      },
      "execution_count": 14,
      "outputs": []
    },
    {
      "cell_type": "code",
      "source": [
        "mean_squared_error(Y_test_original[:,0], Y_pred_original[:,0], squared=False)"
      ],
      "metadata": {
        "colab": {
          "base_uri": "https://localhost:8080/"
        },
        "id": "5VFS6q_3271P",
        "outputId": "fe6fabd5-39e9-4db5-b241-803ac205b64b"
      },
      "execution_count": 15,
      "outputs": [
        {
          "output_type": "execute_result",
          "data": {
            "text/plain": [
              "21.460667200519037"
            ]
          },
          "metadata": {},
          "execution_count": 15
        }
      ]
    },
    {
      "cell_type": "code",
      "source": [
        "mean_squared_error(Y_test_original[:,1], Y_pred_original[:,1], squared=False)"
      ],
      "metadata": {
        "colab": {
          "base_uri": "https://localhost:8080/"
        },
        "id": "mvFMzhNukUCC",
        "outputId": "cd8727fd-657a-40c0-8ab5-593839fa5f8e"
      },
      "execution_count": 16,
      "outputs": [
        {
          "output_type": "execute_result",
          "data": {
            "text/plain": [
              "22.103907983683943"
            ]
          },
          "metadata": {},
          "execution_count": 16
        }
      ]
    },
    {
      "cell_type": "code",
      "source": [
        "mean_squared_error(Y_test_original[:,2], Y_pred_original[:,2], squared=False)"
      ],
      "metadata": {
        "colab": {
          "base_uri": "https://localhost:8080/"
        },
        "id": "JaJ5VBGNBHts",
        "outputId": "bbc420d0-9479-460a-fc78-b8f40af5be00"
      },
      "execution_count": 17,
      "outputs": [
        {
          "output_type": "execute_result",
          "data": {
            "text/plain": [
              "4.928197941797449"
            ]
          },
          "metadata": {},
          "execution_count": 17
        }
      ]
    },
    {
      "cell_type": "code",
      "source": [
        "mean_squared_error(Y_test_original[:,3], Y_pred_original[:,3], squared=False)"
      ],
      "metadata": {
        "colab": {
          "base_uri": "https://localhost:8080/"
        },
        "id": "aneultd625s_",
        "outputId": "5407768f-2ec1-4125-cbc2-5b8521a98232"
      },
      "execution_count": 18,
      "outputs": [
        {
          "output_type": "execute_result",
          "data": {
            "text/plain": [
              "5.00509444174477"
            ]
          },
          "metadata": {},
          "execution_count": 18
        }
      ]
    }
  ]
}